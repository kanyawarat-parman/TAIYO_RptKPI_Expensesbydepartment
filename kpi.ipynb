{
 "cells": [
  {
   "cell_type": "code",
   "execution_count": 19,
   "metadata": {},
   "outputs": [],
   "source": [
    "import pandas as pd\n",
    "import numpy as np\n",
    "import matplotlib.pyplot as plt\n",
    "import pyodbc \n",
    "from datetime import datetime, timedelta"
   ]
  },
  {
   "cell_type": "code",
   "execution_count": 20,
   "metadata": {},
   "outputs": [],
   "source": [
    "# Some other example server values are\n",
    "# server = 'localhost\\sqlexpress' # for a named instance\n",
    "# server = 'myserver,port' # to specify an alternate port\n",
    "server = 'tcp:200.200.200.1' \n",
    "database = 'taiyopivot' \n",
    "username = 'usr_taiyo' \n",
    "password = 'imation' \n",
    "cnxn = pyodbc.connect('DRIVER={ODBC Driver 17 for SQL Server};SERVER='+server+';DATABASE='+database+';UID='+username+';PWD='+ password)\n",
    "cursor = cnxn.cursor()"
   ]
  },
  {
   "cell_type": "code",
   "execution_count": 21,
   "metadata": {},
   "outputs": [
    {
     "name": "stderr",
     "output_type": "stream",
     "text": [
      "C:\\Users\\PARMAN\\AppData\\Local\\Programs\\Python\\Python39\\lib\\site-packages\\pandas\\io\\sql.py:761: UserWarning: pandas only support SQLAlchemy connectable(engine/connection) ordatabase string URI or sqlite3 DBAPI2 connectionother DBAPI2 objects are not tested, please consider using SQLAlchemy\n",
      "  warnings.warn(\n"
     ]
    },
    {
     "data": {
      "text/html": [
       "<div>\n",
       "<style scoped>\n",
       "    .dataframe tbody tr th:only-of-type {\n",
       "        vertical-align: middle;\n",
       "    }\n",
       "\n",
       "    .dataframe tbody tr th {\n",
       "        vertical-align: top;\n",
       "    }\n",
       "\n",
       "    .dataframe thead th {\n",
       "        text-align: right;\n",
       "    }\n",
       "</style>\n",
       "<table border=\"1\" class=\"dataframe\">\n",
       "  <thead>\n",
       "    <tr style=\"text-align: right;\">\n",
       "      <th></th>\n",
       "      <th>periodyear</th>\n",
       "      <th>periodmonth</th>\n",
       "      <th>departmentid</th>\n",
       "      <th>fqty</th>\n",
       "      <th>famount</th>\n",
       "    </tr>\n",
       "  </thead>\n",
       "  <tbody>\n",
       "    <tr>\n",
       "      <th>0</th>\n",
       "      <td>2022</td>\n",
       "      <td>1</td>\n",
       "      <td>1203</td>\n",
       "      <td>168245.00</td>\n",
       "      <td>557628.43</td>\n",
       "    </tr>\n",
       "    <tr>\n",
       "      <th>1</th>\n",
       "      <td>2022</td>\n",
       "      <td>1</td>\n",
       "      <td>1202</td>\n",
       "      <td>151888.07</td>\n",
       "      <td>6951195.78</td>\n",
       "    </tr>\n",
       "    <tr>\n",
       "      <th>2</th>\n",
       "      <td>2022</td>\n",
       "      <td>1</td>\n",
       "      <td>1205</td>\n",
       "      <td>237548.60</td>\n",
       "      <td>1673300.14</td>\n",
       "    </tr>\n",
       "    <tr>\n",
       "      <th>3</th>\n",
       "      <td>2022</td>\n",
       "      <td>1</td>\n",
       "      <td>1204</td>\n",
       "      <td>16531.23</td>\n",
       "      <td>1105511.42</td>\n",
       "    </tr>\n",
       "    <tr>\n",
       "      <th>4</th>\n",
       "      <td>2023</td>\n",
       "      <td>1</td>\n",
       "      <td>1202</td>\n",
       "      <td>150657.09</td>\n",
       "      <td>7662217.89</td>\n",
       "    </tr>\n",
       "    <tr>\n",
       "      <th>5</th>\n",
       "      <td>2023</td>\n",
       "      <td>1</td>\n",
       "      <td>1205</td>\n",
       "      <td>186819.20</td>\n",
       "      <td>1554046.85</td>\n",
       "    </tr>\n",
       "    <tr>\n",
       "      <th>6</th>\n",
       "      <td>2023</td>\n",
       "      <td>1</td>\n",
       "      <td>1203</td>\n",
       "      <td>130653.00</td>\n",
       "      <td>451468.07</td>\n",
       "    </tr>\n",
       "    <tr>\n",
       "      <th>7</th>\n",
       "      <td>2023</td>\n",
       "      <td>1</td>\n",
       "      <td>1204</td>\n",
       "      <td>28949.04</td>\n",
       "      <td>982601.39</td>\n",
       "    </tr>\n",
       "    <tr>\n",
       "      <th>8</th>\n",
       "      <td>2022</td>\n",
       "      <td>2</td>\n",
       "      <td>1204</td>\n",
       "      <td>25215.11</td>\n",
       "      <td>1352781.06</td>\n",
       "    </tr>\n",
       "    <tr>\n",
       "      <th>9</th>\n",
       "      <td>2022</td>\n",
       "      <td>2</td>\n",
       "      <td>1202</td>\n",
       "      <td>143985.82</td>\n",
       "      <td>6627306.27</td>\n",
       "    </tr>\n",
       "    <tr>\n",
       "      <th>10</th>\n",
       "      <td>2022</td>\n",
       "      <td>2</td>\n",
       "      <td>1203</td>\n",
       "      <td>115053.00</td>\n",
       "      <td>365154.45</td>\n",
       "    </tr>\n",
       "    <tr>\n",
       "      <th>11</th>\n",
       "      <td>2022</td>\n",
       "      <td>2</td>\n",
       "      <td>1205</td>\n",
       "      <td>251119.83</td>\n",
       "      <td>1838155.95</td>\n",
       "    </tr>\n",
       "    <tr>\n",
       "      <th>12</th>\n",
       "      <td>2023</td>\n",
       "      <td>2</td>\n",
       "      <td>1205</td>\n",
       "      <td>193805.37</td>\n",
       "      <td>1574681.32</td>\n",
       "    </tr>\n",
       "    <tr>\n",
       "      <th>13</th>\n",
       "      <td>2023</td>\n",
       "      <td>2</td>\n",
       "      <td>1204</td>\n",
       "      <td>16305.86</td>\n",
       "      <td>924168.63</td>\n",
       "    </tr>\n",
       "    <tr>\n",
       "      <th>14</th>\n",
       "      <td>2023</td>\n",
       "      <td>2</td>\n",
       "      <td>1202</td>\n",
       "      <td>116312.63</td>\n",
       "      <td>5979172.19</td>\n",
       "    </tr>\n",
       "    <tr>\n",
       "      <th>15</th>\n",
       "      <td>2023</td>\n",
       "      <td>2</td>\n",
       "      <td>1203</td>\n",
       "      <td>87679.00</td>\n",
       "      <td>266964.15</td>\n",
       "    </tr>\n",
       "    <tr>\n",
       "      <th>16</th>\n",
       "      <td>2022</td>\n",
       "      <td>3</td>\n",
       "      <td>1205</td>\n",
       "      <td>263779.91</td>\n",
       "      <td>2025069.74</td>\n",
       "    </tr>\n",
       "    <tr>\n",
       "      <th>17</th>\n",
       "      <td>2022</td>\n",
       "      <td>3</td>\n",
       "      <td>1204</td>\n",
       "      <td>24747.58</td>\n",
       "      <td>1258672.00</td>\n",
       "    </tr>\n",
       "    <tr>\n",
       "      <th>18</th>\n",
       "      <td>2022</td>\n",
       "      <td>3</td>\n",
       "      <td>1202</td>\n",
       "      <td>159845.03</td>\n",
       "      <td>7111945.31</td>\n",
       "    </tr>\n",
       "    <tr>\n",
       "      <th>19</th>\n",
       "      <td>2022</td>\n",
       "      <td>3</td>\n",
       "      <td>1203</td>\n",
       "      <td>99175.00</td>\n",
       "      <td>253250.87</td>\n",
       "    </tr>\n",
       "  </tbody>\n",
       "</table>\n",
       "</div>"
      ],
      "text/plain": [
       "    periodyear  periodmonth departmentid       fqty     famount\n",
       "0         2022            1         1203  168245.00   557628.43\n",
       "1         2022            1         1202  151888.07  6951195.78\n",
       "2         2022            1         1205  237548.60  1673300.14\n",
       "3         2022            1         1204   16531.23  1105511.42\n",
       "4         2023            1         1202  150657.09  7662217.89\n",
       "5         2023            1         1205  186819.20  1554046.85\n",
       "6         2023            1         1203  130653.00   451468.07\n",
       "7         2023            1         1204   28949.04   982601.39\n",
       "8         2022            2         1204   25215.11  1352781.06\n",
       "9         2022            2         1202  143985.82  6627306.27\n",
       "10        2022            2         1203  115053.00   365154.45\n",
       "11        2022            2         1205  251119.83  1838155.95\n",
       "12        2023            2         1205  193805.37  1574681.32\n",
       "13        2023            2         1204   16305.86   924168.63\n",
       "14        2023            2         1202  116312.63  5979172.19\n",
       "15        2023            2         1203   87679.00   266964.15\n",
       "16        2022            3         1205  263779.91  2025069.74\n",
       "17        2022            3         1204   24747.58  1258672.00\n",
       "18        2022            3         1202  159845.03  7111945.31\n",
       "19        2022            3         1203   99175.00   253250.87"
      ]
     },
     "execution_count": 21,
     "metadata": {},
     "output_type": "execute_result"
    }
   ],
   "source": [
    "sql=f\"\"\"\n",
    "select   year(fmdate) as periodyear\n",
    ",month(fmdate) as periodmonth\n",
    ", fseccode as departmentid\n",
    ", sum(CASE left(fmovecode,1)     WHEN '4' THEN  fqty  WHEN '2' THEN  fqty*-1  Else 0    END)AS fqty \n",
    ", sum(CASE left(fmovecode,1)     WHEN '4' THEN  famount  WHEN '2' THEN  famount*-1  Else 0    END)AS famount \n",
    "\n",
    "From taiyo.dbo.sd22fdly a with (nolock) \n",
    "where fpdcode<>''  and  isnull(fwono,'') <> ''  \n",
    "and left(fmovecode,2) in ('22','42')  \n",
    "and year(fmdate) in('2022','2023')\n",
    "and   fwono in ( select WONo from  WOOrders with(nolock)  where  ProductLineid = '101'  ) \n",
    "and   fseccode in ('1202' ,'1203','1204','1205')\n",
    "Group by  year(fmdate) ,month(fmdate),  fseccode \n",
    "order by periodmonth,periodyear\n",
    "\n",
    "\"\"\"\n",
    " \n",
    "\n",
    "card= pd.read_sql(sql, cnxn)\n",
    "\n",
    "card.head(20)"
   ]
  },
  {
   "cell_type": "code",
   "execution_count": 22,
   "metadata": {},
   "outputs": [
    {
     "data": {
      "text/html": [
       "<div>\n",
       "<style scoped>\n",
       "    .dataframe tbody tr th:only-of-type {\n",
       "        vertical-align: middle;\n",
       "    }\n",
       "\n",
       "    .dataframe tbody tr th {\n",
       "        vertical-align: top;\n",
       "    }\n",
       "\n",
       "    .dataframe thead th {\n",
       "        text-align: right;\n",
       "    }\n",
       "</style>\n",
       "<table border=\"1\" class=\"dataframe\">\n",
       "  <thead>\n",
       "    <tr style=\"text-align: right;\">\n",
       "      <th></th>\n",
       "      <th>tCloseDate</th>\n",
       "      <th>divisionid</th>\n",
       "      <th>deptid</th>\n",
       "      <th>sthainame</th>\n",
       "      <th>dSalary</th>\n",
       "      <th>iPeriodNumber</th>\n",
       "      <th>iEmpWorkPayType</th>\n",
       "      <th>iEmpPayPeriod</th>\n",
       "      <th>periodyear</th>\n",
       "      <th>perioddate</th>\n",
       "    </tr>\n",
       "  </thead>\n",
       "  <tbody>\n",
       "    <tr>\n",
       "      <th>0</th>\n",
       "      <td>2021-02-15</td>\n",
       "      <td>207</td>\n",
       "      <td>3081</td>\n",
       "      <td>ออกแบบ</td>\n",
       "      <td>2046.0</td>\n",
       "      <td>3</td>\n",
       "      <td>1</td>\n",
       "      <td>1</td>\n",
       "      <td>2021</td>\n",
       "      <td>2</td>\n",
       "    </tr>\n",
       "    <tr>\n",
       "      <th>1</th>\n",
       "      <td>2021-02-28</td>\n",
       "      <td>207</td>\n",
       "      <td>3081</td>\n",
       "      <td>ออกแบบ</td>\n",
       "      <td>1488.0</td>\n",
       "      <td>4</td>\n",
       "      <td>1</td>\n",
       "      <td>1</td>\n",
       "      <td>2021</td>\n",
       "      <td>2</td>\n",
       "    </tr>\n",
       "    <tr>\n",
       "      <th>2</th>\n",
       "      <td>2021-03-15</td>\n",
       "      <td>207</td>\n",
       "      <td>3081</td>\n",
       "      <td>ออกแบบ</td>\n",
       "      <td>1674.0</td>\n",
       "      <td>5</td>\n",
       "      <td>1</td>\n",
       "      <td>1</td>\n",
       "      <td>2021</td>\n",
       "      <td>3</td>\n",
       "    </tr>\n",
       "    <tr>\n",
       "      <th>3</th>\n",
       "      <td>2021-03-31</td>\n",
       "      <td>207</td>\n",
       "      <td>3081</td>\n",
       "      <td>ออกแบบ</td>\n",
       "      <td>1674.0</td>\n",
       "      <td>6</td>\n",
       "      <td>1</td>\n",
       "      <td>1</td>\n",
       "      <td>2021</td>\n",
       "      <td>3</td>\n",
       "    </tr>\n",
       "    <tr>\n",
       "      <th>4</th>\n",
       "      <td>2021-04-15</td>\n",
       "      <td>207</td>\n",
       "      <td>3081</td>\n",
       "      <td>ออกแบบ</td>\n",
       "      <td>372.0</td>\n",
       "      <td>7</td>\n",
       "      <td>1</td>\n",
       "      <td>1</td>\n",
       "      <td>2021</td>\n",
       "      <td>4</td>\n",
       "    </tr>\n",
       "  </tbody>\n",
       "</table>\n",
       "</div>"
      ],
      "text/plain": [
       "  tCloseDate  divisionid  deptid sthainame  dSalary  iPeriodNumber  \\\n",
       "0 2021-02-15         207    3081    ออกแบบ   2046.0              3   \n",
       "1 2021-02-28         207    3081    ออกแบบ   1488.0              4   \n",
       "2 2021-03-15         207    3081    ออกแบบ   1674.0              5   \n",
       "3 2021-03-31         207    3081    ออกแบบ   1674.0              6   \n",
       "4 2021-04-15         207    3081    ออกแบบ    372.0              7   \n",
       "\n",
       "   iEmpWorkPayType  iEmpPayPeriod  periodyear  perioddate  \n",
       "0                1              1        2021           2  \n",
       "1                1              1        2021           2  \n",
       "2                1              1        2021           3  \n",
       "3                1              1        2021           3  \n",
       "4                1              1        2021           4  "
      ]
     },
     "execution_count": 22,
     "metadata": {},
     "output_type": "execute_result"
    }
   ],
   "source": [
    "payroll=pd.read_excel(\"salaryperiod.xlsx\")\n",
    "payroll.head()\n"
   ]
  },
  {
   "cell_type": "code",
   "execution_count": 68,
   "metadata": {},
   "outputs": [],
   "source": [
    "payroll['deptid']= payroll['deptid'].astype(str)"
   ]
  },
  {
   "cell_type": "code",
   "execution_count": 24,
   "metadata": {},
   "outputs": [],
   "source": [
    "# function_dictionary = {'OrderID':'count','Quantity':'mean'}\n",
    "# df.groupby(\"Product_Category\").aggregate(function_dictionary)\n",
    "\n",
    "# gk.get_group('Boston Celtics')\n",
    "\n",
    "# df.groupby([df.index.year, df.index.quarter])[\"co\"].agg([\"max\", \"min\"])\n",
    "\n",
    "# *** loop\n",
    "# wo = card.groupby([\"WONo\",\"WOLineid\",\"RefWOno\"])\n",
    "# for  name,wono in wo:\n",
    "#     print(name[0])\n",
    "#     print(wono.WONo)\n",
    "\n",
    "# ** use name[0]  for filter\n",
    "\n",
    "\n",
    "# dep = payroll.groupby([\"sCode2\",\"sThaiName\"])\n"
   ]
  },
  {
   "cell_type": "code",
   "execution_count": null,
   "metadata": {},
   "outputs": [
    {
     "name": "stdout",
     "output_type": "stream",
     "text": [
      "1011.0 คลังสำเร็จรูป\n",
      "1011.0 นักศึกษาฝึกงาน\n",
      "1011.0 พนักงาน\n",
      "1011.0 หัวหน้าทีม\n",
      "1011.0 หัวหน้าหน่วย\n",
      "1013.0 คลังวัตถุดิบ\n",
      "1013.0 นักศึกษาฝึกงาน\n",
      "1013.0 พนักงาน\n",
      "1013.0 หัวหน้าทีม\n",
      "1013.0 หัวหน้าหน่วย\n",
      "1013.0 เจ้าหน้าที่\n",
      "1021.0 ธุรการบุคคล\n",
      "1021.0 พนักงาน\n",
      "1022.0 ทรัพยากรบุคคลและธุรการ\n",
      "1022.0 นักศึกษาฝึกงาน\n",
      "1022.0 พนักงาน\n",
      "1022.0 เจ้าหน้าที่\n",
      "1031.0 นักศึกษาฝึกงาน\n",
      "1031.0 สารสนเทศ\n",
      "1042.0 การเงิน\n",
      "1042.0 นักศึกษาฝึกงาน\n",
      "2051.0 นักศึกษาฝึกงาน\n",
      "2051.0 บริหารการตลาด\n",
      "2065.0 ธุรการขาย\n",
      "2065.0 นักศึกษาฝึกงาน\n",
      "2066.0 นักศึกษาฝึกงาน\n",
      "2066.0 บริการติดตั้ง\n",
      "2066.0 พนักงาน\n",
      "2066.0 หัวหน้าทีม\n",
      "2066.0 หัวหน้าหน่วย\n",
      "2066.0 เจ้าหน้าที่\n",
      "2066.1 จัดส่ง\n",
      "2066.1 นักศึกษาฝึกงาน\n",
      "2066.1 พนักงาน\n",
      "2066.1 หัวหน้าทีม\n",
      "2066.1 หัวหน้าหน่วย\n",
      "2067.0 จัดส่ง\n",
      "2067.0 นักศึกษาฝึกงาน\n",
      "2067.0 พนักงาน\n",
      "2067.0 หัวหน้าทีม\n",
      "2067.0 หัวหน้าหน่วย\n",
      "2067.0 เจ้าหน้าที่\n",
      "3071.0 ควบคุมคุณภาพ\n",
      "3071.0 นักศึกษาฝึกงาน\n",
      "3071.0 พนักงาน\n",
      "3071.0 หัวหน้าทีม\n",
      "3071.0 เจ้าหน้าที่\n",
      "3081.0 นักศึกษาฝึกงาน\n",
      "3081.0 ออกแบบ\n",
      "3083.0 นักศึกษาฝึกงาน\n",
      "3083.0 วิจัยและพัฒนา\n",
      "3083.0 หัวหน้าหน่วย\n",
      "3083.0 เจ้าหน้าที่\n",
      "3091.0 ทวิภาคี\n",
      "3091.0 นักศึกษาฝึกงาน\n",
      "3091.0 พนักงาน\n",
      "3091.0 หัวหน้างาน\n",
      "3091.0 หัวหน้าทีม\n",
      "3091.0 แม่พิมพ์1\n",
      "3092.0 ทวิภาคี\n",
      "3092.0 นักศึกษาฝึกงาน\n",
      "3092.0 พนักงาน\n",
      "3092.0 หัวหน้างาน\n",
      "3092.0 หัวหน้าทีม\n",
      "3092.0 แม่พิมพ์2\n",
      "4100.0 ผลิตชิ้นส่วน\n",
      "4100.0 พนักงาน\n",
      "4100.0 หัวหน้าทีม\n",
      "4100.0 หัวหน้าหน่วย\n",
      "4101.0 นักศึกษาฝึกงาน\n",
      "4101.0 ผลิตชิ้นส่วน\n",
      "4101.0 พนักงาน\n",
      "4101.0 หัวหน้าทีม\n",
      "4101.0 หัวหน้าหน่วย\n",
      "4101.0 เจ้าหน้าที่\n",
      "4102.0 นักศึกษาฝึกงาน\n",
      "4102.0 ปั๊ม\n",
      "4102.0 พนักงาน\n",
      "4102.0 หัวหน้างาน\n",
      "4102.0 หัวหน้าทีม\n",
      "4102.0 หัวหน้าหน่วย\n",
      "4102.0 เจ้าหน้าที่\n",
      "4103.0 นักศึกษาฝึกงาน\n",
      "4103.0 พนักงาน\n",
      "4103.0 หัวหน้างาน\n",
      "4103.0 หัวหน้าทีม\n",
      "4103.0 หัวหน้าหน่วย\n",
      "4103.0 อาร์ค\n",
      "4103.0 เจ้าหน้าที่\n",
      "4104.0 พนักงาน\n",
      "4104.0 สี\n",
      "4104.0 หัวหน้าทีม\n",
      "4104.0 หัวหน้าหน่วย\n",
      "4104.0 เจ้าหน้าที่\n",
      "4105.0 ประกอบ\n",
      "4105.0 พนักงาน\n",
      "4105.0 หัวหน้าทีม\n",
      "4105.0 หัวหน้าหน่วย\n",
      "4105.0 เจ้าหน้าที่\n",
      "4106.0 นักศึกษาฝึกงาน\n",
      "4106.0 พนักงาน\n",
      "4106.0 สนับสนุนการผลิต\n",
      "4106.0 หัวหน้าหน่วย\n",
      "4106.0 เจ้าหน้าที่\n",
      "4107.0 ทวิภาคี\n",
      "4107.0 นักศึกษาฝึกงาน\n",
      "4107.0 พนักงาน\n",
      "4107.0 สนับสนุนการผลิตเหล็ก/ตู้นิรภัย\n",
      "4107.0 หัวหน้าหน่วย\n",
      "4107.0 เจ้าหน้าที่\n",
      "4110.0 ธุรการ\n",
      "4110.0 พนักงาน\n",
      "4110.0 หัวหน้าหน่วย\n",
      "4110.0 เจ้าหน้าที่\n",
      "4111.0 ปั้มชิ้นส่วนตู้นิรภัย\n",
      "4111.0 พนักงาน\n",
      "4111.0 หัวหน้าทีม\n",
      "4111.0 หัวหน้าหน่วย\n",
      "4111.0 เจ้าหน้าที่\n",
      "4112.0 นักศึกษาฝึกงาน\n",
      "4112.0 พนักงาน\n",
      "4112.0 หัวหน้าทีม\n",
      "4112.0 หัวหน้าหน่วย\n",
      "4112.0 เจ้าหน้าที่\n",
      "4112.0 เชื่อมเซฟ\n",
      "4113.0 นักศึกษาฝึกงาน\n",
      "4113.0 พนักงาน\n",
      "4113.0 หัวหน้าทีม\n",
      "4113.0 หัวหน้าหน่วย\n",
      "4113.0 เจ้าหน้าที่\n",
      "4113.0 เทปูน\n",
      "4114.0 การจัดการวิศวกรรม\n",
      "4114.0 นักศึกษาฝึกงาน\n",
      "4114.0 พนักงาน\n",
      "4114.0 หัวหน้าหน่วย\n",
      "4114.0 เจ้าหน้าที่\n",
      "4115.0 ขัดตกแต่ง\n",
      "4115.0 พนักงาน\n",
      "4115.0 หัวหน้าหน่วย\n",
      "4115.0 เจ้าหน้าที่\n",
      "4116.0 พนักงาน\n",
      "4116.0 พ่นสี\n",
      "4116.0 หัวหน้าทีม\n",
      "4116.0 หัวหน้าหน่วย\n",
      "4116.0 เจ้าหน้าที่\n",
      "4117.0 ประกอบเซฟ\n",
      "4117.0 พนักงาน\n",
      "4117.0 หัวหน้าทีม\n",
      "4117.0 หัวหน้าหน่วย\n",
      "4117.0 เจ้าหน้าที่\n",
      "4118.0 พนักงาน\n",
      "4118.0 วางแผนเชพ\n",
      "4118.0 หัวหน้าหน่วย\n",
      "4118.0 เจ้าหน้าที่\n",
      "4119.0 ต้นแบบ\n",
      "4119.0 พนักงาน\n",
      "4119.0 หัวหน้าหน่วย\n",
      "4119.0 เจ้าหน้าที่\n",
      "4121.0 นักศึกษาฝึกงาน\n",
      "4121.0 ปาร์ติเกิ้ล\n",
      "4121.0 พนักงาน\n",
      "4121.0 เจ้าหน้าที่\n",
      "4122.0 ตัดไม้\n",
      "4122.0 พนักงาน\n",
      "4122.0 หัวหน้าหน่วย\n",
      "4123.0 ปิดขอบ\n",
      "4123.0 พนักงาน\n",
      "4123.0 หัวหน้าหน่วย\n",
      "4124.0 พนักงาน\n",
      "4124.0 เจาะ\n",
      "4125.0 ประกอบไม้\n",
      "4125.0 พนักงาน\n",
      "4125.0 หัวหน้าหน่วย\n",
      "4126.0 ประกอบไม้พิเศษ\n",
      "4126.0 พนักงาน\n",
      "4126.0 หัวหน้าทีม\n",
      "4126.0 หัวหน้าหน่วย\n",
      "4127.0 ประกอบไม้TF\n",
      "4127.0 พนักงาน\n",
      "4127.0 หัวหน้าทีม\n",
      "4127.0 หัวหน้าหน่วย\n",
      "4127.0 เจ้าหน้าที่\n",
      "4128.0 ปาร์ติชั่น\n",
      "4128.0 พนักงาน\n",
      "4128.0 หัวหน้าทีม\n",
      "4128.0 หัวหน้าหน่วย\n",
      "4130.0 ทำตัวอย่าง\n",
      "4130.0 พนักงาน\n",
      "4130.0 หัวหน้าหน่วย\n",
      "4130.0 เจ้าหน้าที่\n",
      "4131.0 นักศึกษาฝึกงาน\n",
      "4131.0 พนักงาน\n",
      "4131.0 หัวหน้าหน่วย\n",
      "4131.0 เก้าอี้\n",
      "4131.0 เจ้าหน้าที่\n",
      "4132.0 พนักงาน\n",
      "4132.0 หัวหน้าหน่วย\n",
      "4132.0 โครงไม้เก้าอี้\n",
      "4133.0 ตัดแบบเก้าอี้\n",
      "4133.0 พนักงาน\n",
      "4134.0 พนักงาน\n",
      "4134.0 หัวหน้าทีม\n",
      "4134.0 เย็บเก้าอี้\n",
      "4135.0 พนักงาน\n",
      "4135.0 พ่นกาวเก้าอี้\n",
      "4136.0 พนักงาน\n",
      "4136.0 หัวหน้าทีม\n",
      "4136.0 หัวหน้าหน่วย\n",
      "4136.0 หุ้มเก้าอี้\n",
      "4137.0 ประกอบเก้าอี้\n",
      "4137.0 พนักงาน\n",
      "4137.0 หัวหน้าทีม\n",
      "4138.0 นักศึกษาฝึกงาน\n",
      "4138.0 พนักงาน\n",
      "4138.0 หัวหน้าทีม\n",
      "4138.0 หัวหน้าหน่วย\n",
      "4138.0 เชื่อม\n",
      "4141.0 จัดการวัตถุดิบ\n",
      "4141.0 นักศึกษาฝึกงาน\n",
      "4141.0 พนักงาน\n",
      "4141.0 หัวหน้าทีม\n",
      "4141.0 เจ้าหน้าที่\n",
      "4142.0 ซ่อมบำรุง\n",
      "4142.0 นักศึกษาฝึกงาน\n",
      "4142.0 พนักงาน\n",
      "4142.0 หัวหน้าทีม\n",
      "4142.0 หัวหน้าหน่วย\n",
      "4143.0 ตัดเหล็ก\n",
      "4143.0 พนักงาน\n",
      "4143.0 หัวหน้าทีม\n",
      "4143.0 หัวหน้าหน่วย\n",
      "4143.0 เจ้าหน้าที่\n",
      "4143.1 ตัดเหล็ก2\n",
      "4143.1 พนักงาน\n",
      "4143.1 หัวหน้าทีม\n",
      "4143.1 หัวหน้าหน่วย\n",
      "4143.1 เจ้าหน้าที่\n"
     ]
    }
   ],
   "source": [
    "# for  name,item in dep:\n",
    "#     # print(item)\n",
    "#     print(name[0],name[1])\n"
   ]
  },
  {
   "cell_type": "code",
   "execution_count": 25,
   "metadata": {},
   "outputs": [],
   "source": [
    "# payrolldep = payroll[((payroll.sCode2==4102) & (payroll.CloseDate==\"tCloseDate\"))]\n",
    "# payrolldep "
   ]
  },
  {
   "cell_type": "code",
   "execution_count": 30,
   "metadata": {},
   "outputs": [
    {
     "data": {
      "text/html": [
       "<div>\n",
       "<style scoped>\n",
       "    .dataframe tbody tr th:only-of-type {\n",
       "        vertical-align: middle;\n",
       "    }\n",
       "\n",
       "    .dataframe tbody tr th {\n",
       "        vertical-align: top;\n",
       "    }\n",
       "\n",
       "    .dataframe thead th {\n",
       "        text-align: right;\n",
       "    }\n",
       "</style>\n",
       "<table border=\"1\" class=\"dataframe\">\n",
       "  <thead>\n",
       "    <tr style=\"text-align: right;\">\n",
       "      <th></th>\n",
       "      <th>Departmentid</th>\n",
       "      <th>DepPayroll</th>\n",
       "      <th>DepPayrollname</th>\n",
       "      <th>CreateBy</th>\n",
       "      <th>CreateDate</th>\n",
       "      <th>LastupdateBy</th>\n",
       "      <th>LastupdateDate</th>\n",
       "    </tr>\n",
       "  </thead>\n",
       "  <tbody>\n",
       "    <tr>\n",
       "      <th>0</th>\n",
       "      <td>1202</td>\n",
       "      <td>4102</td>\n",
       "      <td>ปั๊ม</td>\n",
       "      <td>admin</td>\n",
       "      <td>2009-11-30T15:45:48.683</td>\n",
       "      <td>admin</td>\n",
       "      <td>2009-11-30T15:45:48.683</td>\n",
       "    </tr>\n",
       "    <tr>\n",
       "      <th>1</th>\n",
       "      <td>1203</td>\n",
       "      <td>4103</td>\n",
       "      <td>อาร์ค</td>\n",
       "      <td>admin</td>\n",
       "      <td>2009-11-30T15:45:48.683</td>\n",
       "      <td>admin</td>\n",
       "      <td>2009-11-30T15:45:48.683</td>\n",
       "    </tr>\n",
       "    <tr>\n",
       "      <th>2</th>\n",
       "      <td>1204</td>\n",
       "      <td>4104</td>\n",
       "      <td>สี</td>\n",
       "      <td>admin</td>\n",
       "      <td>2009-11-30T15:45:48.683</td>\n",
       "      <td>admin</td>\n",
       "      <td>2009-11-30T15:45:48.683</td>\n",
       "    </tr>\n",
       "    <tr>\n",
       "      <th>3</th>\n",
       "      <td>1205</td>\n",
       "      <td>4105</td>\n",
       "      <td>ประกอบ</td>\n",
       "      <td>admin</td>\n",
       "      <td>2009-11-30T15:45:48.683</td>\n",
       "      <td>admin</td>\n",
       "      <td>2009-11-30T15:45:48.683</td>\n",
       "    </tr>\n",
       "  </tbody>\n",
       "</table>\n",
       "</div>"
      ],
      "text/plain": [
       "  Departmentid DepPayroll DepPayrollname CreateBy               CreateDate  \\\n",
       "0         1202       4102           ปั๊ม    admin  2009-11-30T15:45:48.683   \n",
       "1         1203       4103          อาร์ค    admin  2009-11-30T15:45:48.683   \n",
       "2         1204       4104             สี    admin  2009-11-30T15:45:48.683   \n",
       "3         1205       4105         ประกอบ    admin  2009-11-30T15:45:48.683   \n",
       "\n",
       "  LastupdateBy           LastupdateDate  \n",
       "0        admin  2009-11-30T15:45:48.683  \n",
       "1        admin  2009-11-30T15:45:48.683  \n",
       "2        admin  2009-11-30T15:45:48.683  \n",
       "3        admin  2009-11-30T15:45:48.683  "
      ]
     },
     "execution_count": 30,
     "metadata": {},
     "output_type": "execute_result"
    }
   ],
   "source": [
    "data=[\n",
    "  {\n",
    "    \"Departmentid\": \"1202\",\n",
    "    \"DepPayroll\": \"4102\",\n",
    "    \"DepPayrollname\": \"ปั๊ม\",\n",
    "    \"CreateBy\": \"admin\",\n",
    "    \"CreateDate\": \"2009-11-30T15:45:48.683\",\n",
    "    \"LastupdateBy\": \"admin\",\n",
    "    \"LastupdateDate\": \"2009-11-30T15:45:48.683\"\n",
    "  },\n",
    "  {\n",
    "    \"Departmentid\": \"1203\",\n",
    "    \"DepPayroll\": \"4103\",\n",
    "    \"DepPayrollname\": \"อาร์ค\",\n",
    "    \"CreateBy\": \"admin\",\n",
    "    \"CreateDate\": \"2009-11-30T15:45:48.683\",\n",
    "    \"LastupdateBy\": \"admin\",\n",
    "    \"LastupdateDate\": \"2009-11-30T15:45:48.683\"\n",
    "  },\n",
    "  {\n",
    "    \"Departmentid\": \"1204\",\n",
    "    \"DepPayroll\": \"4104\",\n",
    "    \"DepPayrollname\": \"สี\",\n",
    "    \"CreateBy\": \"admin\",\n",
    "    \"CreateDate\": \"2009-11-30T15:45:48.683\",\n",
    "    \"LastupdateBy\": \"admin\",\n",
    "    \"LastupdateDate\": \"2009-11-30T15:45:48.683\"\n",
    "  },\n",
    "  {\n",
    "    \"Departmentid\": \"1205\",\n",
    "    \"DepPayroll\": \"4105\",\n",
    "    \"DepPayrollname\": \"ประกอบ\",\n",
    "    \"CreateBy\": \"admin\",\n",
    "    \"CreateDate\": \"2009-11-30T15:45:48.683\",\n",
    "    \"LastupdateBy\": \"admin\",\n",
    "    \"LastupdateDate\": \"2009-11-30T15:45:48.683\"\n",
    "  }\n",
    "]\n",
    "\n",
    "department=pd.DataFrame(data)\n",
    "department.head()\n"
   ]
  },
  {
   "cell_type": "code",
   "execution_count": null,
   "metadata": {},
   "outputs": [],
   "source": []
  },
  {
   "cell_type": "code",
   "execution_count": 34,
   "metadata": {},
   "outputs": [
    {
     "data": {
      "text/plain": [
       "range(1, 13)"
      ]
     },
     "execution_count": 34,
     "metadata": {},
     "output_type": "execute_result"
    }
   ],
   "source": [
    "period=range(1,13)\n",
    "period"
   ]
  },
  {
   "cell_type": "code",
   "execution_count": 35,
   "metadata": {},
   "outputs": [
    {
     "name": "stdout",
     "output_type": "stream",
     "text": [
      "1\n",
      "2\n",
      "3\n",
      "4\n",
      "5\n",
      "6\n",
      "7\n",
      "8\n",
      "9\n",
      "10\n",
      "11\n",
      "12\n"
     ]
    }
   ],
   "source": [
    "for i in period:\n",
    "    print(i)"
   ]
  },
  {
   "cell_type": "code",
   "execution_count": null,
   "metadata": {},
   "outputs": [],
   "source": [
    "# def findproccesstime(DeliveryDate,departmentid):\n",
    "#     processtime =0\n",
    "\n",
    "#     jobdepweek = jobweek[(jobweek.DeliveryDate==DeliveryDate) & (jobweek.departmentid==departmentid)]\n",
    "#     processtime = jobdepweek.processtime.sum()\n",
    "#     return processtime\n",
    "\n",
    "\n"
   ]
  },
  {
   "cell_type": "code",
   "execution_count": 48,
   "metadata": {},
   "outputs": [
    {
     "data": {
      "text/plain": [
       "7662217.890000012"
      ]
     },
     "execution_count": 48,
     "metadata": {},
     "output_type": "execute_result"
    }
   ],
   "source": [
    "carddep =card[(card.periodyear==2023)& (card.periodmonth==1) & (card.departmentid==\"1202\")]\n",
    "carddep.famount.sum()"
   ]
  },
  {
   "cell_type": "markdown",
   "metadata": {},
   "source": []
  },
  {
   "cell_type": "code",
   "execution_count": 92,
   "metadata": {},
   "outputs": [],
   "source": [
    "carddep =card[(card.periodyear==2023)& (card.periodmonth==1) ]\n",
    "\n",
    "# carddep.famount.sum()\n"
   ]
  },
  {
   "cell_type": "code",
   "execution_count": 94,
   "metadata": {},
   "outputs": [
    {
     "data": {
      "text/plain": [
       "8113685.960000012"
      ]
     },
     "execution_count": 94,
     "metadata": {},
     "output_type": "execute_result"
    }
   ],
   "source": [
    "carddep2 =carddep[(carddep.departmentid==\"1202\")| (carddep.departmentid==\"1203\") ]\n",
    "carddep2.famount.sum()\n"
   ]
  },
  {
   "cell_type": "code",
   "execution_count": null,
   "metadata": {},
   "outputs": [],
   "source": []
  },
  {
   "cell_type": "code",
   "execution_count": 96,
   "metadata": {},
   "outputs": [],
   "source": [
    "def findcard(periodyear,periodmonth,departmentid):\n",
    "    result=0\n",
    "\n",
    "\n",
    "    if departmentid==\"1202\" :\n",
    "        carddep =card[(card.periodyear==periodyear)& (card.periodmonth==periodmonth) & (card.departmentid==departmentid)]\n",
    "        result = carddep.famount.sum()\n",
    "    elif departmentid==\"1203\" :\n",
    "        carddep =card[(card.periodyear==periodyear)& (card.periodmonth==periodmonth) ]\n",
    "        carddep2 =carddep[(carddep.departmentid==\"1202\")| (carddep.departmentid==\"1203\") ]\n",
    "        result =carddep2.famount.sum()      \n",
    "    elif departmentid==\"1204\" :\n",
    "        carddep =card[(card.periodyear==periodyear)& (card.periodmonth==periodmonth) ]\n",
    "        carddep2 =carddep[(carddep.departmentid==\"1202\")| (carddep.departmentid==\"1203\")| (carddep.departmentid==\"1204\") ]\n",
    "        result =carddep2.famount.sum() \n",
    "    elif departmentid==\"1205\" :\n",
    "        carddep =card[(card.periodyear==periodyear)& (card.periodmonth==periodmonth) ]\n",
    "        carddep2 =carddep[(carddep.departmentid==\"1202\")| (carddep.departmentid==\"1203\")| (carddep.departmentid==\"1204\")| (carddep.departmentid==\"1205\") ]\n",
    "        result =carddep2.famount.sum() \n",
    "    return result"
   ]
  },
  {
   "cell_type": "code",
   "execution_count": 69,
   "metadata": {},
   "outputs": [
    {
     "data": {
      "text/plain": [
       "7440.0"
      ]
     },
     "execution_count": 69,
     "metadata": {},
     "output_type": "execute_result"
    }
   ],
   "source": [
    "\n",
    "payrolldep =payroll[(payroll.periodyear==2021)& (payroll.perioddate==1) & (payroll.deptid==\"3081\")]\n",
    "payrolldep.dSalary.sum()\n",
    "    "
   ]
  },
  {
   "cell_type": "code",
   "execution_count": 71,
   "metadata": {},
   "outputs": [],
   "source": [
    "def findpayroll(periodyear,periodmonth,departmentid):\n",
    "    result=0\n",
    "\n",
    "\n",
    "    payrolldep =payroll[(payroll.periodyear==periodyear)& (payroll.perioddate==periodmonth) & (payroll.deptid==departmentid)]\n",
    "    result=payrolldep.dSalary.sum()\n",
    "    \n",
    " \n",
    "    return result"
   ]
  },
  {
   "cell_type": "code",
   "execution_count": 63,
   "metadata": {},
   "outputs": [
    {
     "data": {
      "text/plain": [
       "6951195.780000007"
      ]
     },
     "execution_count": 63,
     "metadata": {},
     "output_type": "execute_result"
    }
   ],
   "source": [
    "result=findcard(2022,1,\"1202\")\n",
    "result"
   ]
  },
  {
   "cell_type": "code",
   "execution_count": 113,
   "metadata": {},
   "outputs": [
    {
     "data": {
      "text/plain": [
       "[{'department': '1202',\n",
       "  'period': 1,\n",
       "  'issueamount': 7662217.890000012,\n",
       "  'salaryamount': 291582.0,\n",
       "  'percentlabor': 3.8054516875661384},\n",
       " {'department': '1202',\n",
       "  'period': 2,\n",
       "  'issueamount': 5979172.190000002,\n",
       "  'salaryamount': 277912.8,\n",
       "  'percentlabor': 4.648014661039556},\n",
       " {'department': '1202',\n",
       "  'period': 3,\n",
       "  'issueamount': 7147777.199999998,\n",
       "  'salaryamount': 282242.0,\n",
       "  'percentlabor': 3.948668125805601},\n",
       " {'department': '1202',\n",
       "  'period': 4,\n",
       "  'issueamount': 4914781.529999995,\n",
       "  'salaryamount': 278164.0,\n",
       "  'percentlabor': 5.659742926558941},\n",
       " {'department': '1202',\n",
       "  'period': 5,\n",
       "  'issueamount': 5490206.06999999,\n",
       "  'salaryamount': 286685.0,\n",
       "  'percentlabor': 5.221752996969029},\n",
       " {'department': '1202',\n",
       "  'period': 6,\n",
       "  'issueamount': 5967297.019999977,\n",
       "  'salaryamount': 282598.0,\n",
       "  'percentlabor': 4.735779014398735},\n",
       " {'department': '1202',\n",
       "  'period': 7,\n",
       "  'issueamount': 6303360.700000006,\n",
       "  'salaryamount': 277914.0,\n",
       "  'percentlabor': 4.408981386706931},\n",
       " {'department': '1202',\n",
       "  'period': 8,\n",
       "  'issueamount': 4369647.799999997,\n",
       "  'salaryamount': 276879.0,\n",
       "  'percentlabor': 6.336414573275223},\n",
       " {'department': '1202',\n",
       "  'period': 9,\n",
       "  'issueamount': 6456549.989999986,\n",
       "  'salaryamount': 273508.0,\n",
       "  'percentlabor': 4.236132306318604},\n",
       " {'department': '1202',\n",
       "  'period': 10,\n",
       "  'issueamount': 3703466.8200000003,\n",
       "  'salaryamount': 272776.0,\n",
       "  'percentlabor': 7.365423082148741},\n",
       " {'department': '1202',\n",
       "  'period': 11,\n",
       "  'issueamount': 3687623.650000005,\n",
       "  'salaryamount': 265612.0,\n",
       "  'percentlabor': 7.202795762523099},\n",
       " {'department': '1202',\n",
       "  'period': 12,\n",
       "  'issueamount': 3357312.5799999977,\n",
       "  'salaryamount': 263498.0,\n",
       "  'percentlabor': 7.848479810003279},\n",
       " {'department': '1203',\n",
       "  'period': 1,\n",
       "  'issueamount': 8113685.960000012,\n",
       "  'salaryamount': 272287.0,\n",
       "  'percentlabor': 3.3558976936297347},\n",
       " {'department': '1203',\n",
       "  'period': 2,\n",
       "  'issueamount': 6246136.340000003,\n",
       "  'salaryamount': 262775.0,\n",
       "  'percentlabor': 4.207000707256414},\n",
       " {'department': '1203',\n",
       "  'period': 3,\n",
       "  'issueamount': 7383544.939999999,\n",
       "  'salaryamount': 276687.0,\n",
       "  'percentlabor': 3.747346325490098},\n",
       " {'department': '1203',\n",
       "  'period': 4,\n",
       "  'issueamount': 5190904.969999995,\n",
       "  'salaryamount': 267317.81,\n",
       "  'percentlabor': 5.14973422832667},\n",
       " {'department': '1203',\n",
       "  'period': 5,\n",
       "  'issueamount': 5682957.5499999905,\n",
       "  'salaryamount': 273137.0,\n",
       "  'percentlabor': 4.806247408974583},\n",
       " {'department': '1203',\n",
       "  'period': 6,\n",
       "  'issueamount': 6265300.719999977,\n",
       "  'salaryamount': 258241.0,\n",
       "  'percentlabor': 4.121765443367273},\n",
       " {'department': '1203',\n",
       "  'period': 7,\n",
       "  'issueamount': 6586360.620000006,\n",
       "  'salaryamount': 257284.0,\n",
       "  'percentlabor': 3.9063151085098005},\n",
       " {'department': '1203',\n",
       "  'period': 8,\n",
       "  'issueamount': 4619812.589999997,\n",
       "  'salaryamount': 261162.0,\n",
       "  'percentlabor': 5.65308645994231},\n",
       " {'department': '1203',\n",
       "  'period': 9,\n",
       "  'issueamount': 6837961.909999986,\n",
       "  'salaryamount': 256540.0,\n",
       "  'percentlabor': 3.7517026765655164},\n",
       " {'department': '1203',\n",
       "  'period': 10,\n",
       "  'issueamount': 3879418.49,\n",
       "  'salaryamount': 239404.0,\n",
       "  'percentlabor': 6.17113107588452},\n",
       " {'department': '1203',\n",
       "  'period': 11,\n",
       "  'issueamount': 3894118.060000005,\n",
       "  'salaryamount': 224555.0,\n",
       "  'percentlabor': 5.766517515393452},\n",
       " {'department': '1203',\n",
       "  'period': 12,\n",
       "  'issueamount': 3563122.6699999976,\n",
       "  'salaryamount': 223837.0,\n",
       "  'percentlabor': 6.282045855019641},\n",
       " {'department': '1204',\n",
       "  'period': 1,\n",
       "  'issueamount': 9096287.350000013,\n",
       "  'salaryamount': 366339.0,\n",
       "  'percentlabor': 4.027346387644619},\n",
       " {'department': '1204',\n",
       "  'period': 2,\n",
       "  'issueamount': 7170304.9700000025,\n",
       "  'salaryamount': 348360.0,\n",
       "  'percentlabor': 4.858370759089204},\n",
       " {'department': '1204',\n",
       "  'period': 3,\n",
       "  'issueamount': 8493212.049999999,\n",
       "  'salaryamount': 365539.0,\n",
       "  'percentlabor': 4.303895838795171},\n",
       " {'department': '1204',\n",
       "  'period': 4,\n",
       "  'issueamount': 6179945.419999995,\n",
       "  'salaryamount': 359606.56,\n",
       "  'percentlabor': 5.818927766517398},\n",
       " {'department': '1204',\n",
       "  'period': 5,\n",
       "  'issueamount': 6386457.30999999,\n",
       "  'salaryamount': 355916.0,\n",
       "  'percentlabor': 5.572980178583555},\n",
       " {'department': '1204',\n",
       "  'period': 6,\n",
       "  'issueamount': 7255055.059999977,\n",
       "  'salaryamount': 348730.0,\n",
       "  'percentlabor': 4.806717483409438},\n",
       " {'department': '1204',\n",
       "  'period': 7,\n",
       "  'issueamount': 7094561.080000006,\n",
       "  'salaryamount': 347320.0,\n",
       "  'percentlabor': 4.8955812217772845},\n",
       " {'department': '1204',\n",
       "  'period': 8,\n",
       "  'issueamount': 5794320.429999996,\n",
       "  'salaryamount': 351030.0,\n",
       "  'percentlabor': 6.058173762406168},\n",
       " {'department': '1204',\n",
       "  'period': 9,\n",
       "  'issueamount': 7778744.989999987,\n",
       "  'salaryamount': 348046.0,\n",
       "  'percentlabor': 4.4743207348670335},\n",
       " {'department': '1204',\n",
       "  'period': 10,\n",
       "  'issueamount': 4564833.98,\n",
       "  'salaryamount': 338141.0,\n",
       "  'percentlabor': 7.4075202182928015},\n",
       " {'department': '1204',\n",
       "  'period': 11,\n",
       "  'issueamount': 4480196.810000005,\n",
       "  'salaryamount': 340622.0,\n",
       "  'percentlabor': 7.602835644177864},\n",
       " {'department': '1204',\n",
       "  'period': 12,\n",
       "  'issueamount': 4296082.269999998,\n",
       "  'salaryamount': 338139.0,\n",
       "  'percentlabor': 7.8708688230032475},\n",
       " {'department': '1205',\n",
       "  'period': 1,\n",
       "  'issueamount': 10650334.20000001,\n",
       "  'salaryamount': 192880.19,\n",
       "  'percentlabor': 1.8110247657768317},\n",
       " {'department': '1205',\n",
       "  'period': 2,\n",
       "  'issueamount': 8744986.290000005,\n",
       "  'salaryamount': 177942.0,\n",
       "  'percentlabor': 2.034788781812943},\n",
       " {'department': '1205',\n",
       "  'period': 3,\n",
       "  'issueamount': 10287014.449999997,\n",
       "  'salaryamount': 184686.0,\n",
       "  'percentlabor': 1.795331394717736},\n",
       " {'department': '1205',\n",
       "  'period': 4,\n",
       "  'issueamount': 7307108.109999996,\n",
       "  'salaryamount': 180190.0,\n",
       "  'percentlabor': 2.465955030190461},\n",
       " {'department': '1205',\n",
       "  'period': 5,\n",
       "  'issueamount': 7887988.33999999,\n",
       "  'salaryamount': 184686.0,\n",
       "  'percentlabor': 2.3413574163574418},\n",
       " {'department': '1205',\n",
       "  'period': 6,\n",
       "  'issueamount': 9177711.66999998,\n",
       "  'salaryamount': 182438.0,\n",
       "  'percentlabor': 1.9878375629989737},\n",
       " {'department': '1205',\n",
       "  'period': 7,\n",
       "  'issueamount': 9077898.620000007,\n",
       "  'salaryamount': 180809.44,\n",
       "  'percentlabor': 1.991754342812873},\n",
       " {'department': '1205',\n",
       "  'period': 8,\n",
       "  'issueamount': 7250269.069999997,\n",
       "  'salaryamount': 184686.0,\n",
       "  'percentlabor': 2.5472985652931097},\n",
       " {'department': '1205',\n",
       "  'period': 9,\n",
       "  'issueamount': 9450173.50999999,\n",
       "  'salaryamount': 182438.0,\n",
       "  'percentlabor': 1.9305254004801884},\n",
       " {'department': '1205',\n",
       "  'period': 10,\n",
       "  'issueamount': 5632733.02,\n",
       "  'salaryamount': 182438.0,\n",
       "  'percentlabor': 3.238889529331891},\n",
       " {'department': '1205',\n",
       "  'period': 11,\n",
       "  'issueamount': 5752302.280000005,\n",
       "  'salaryamount': 182438.0,\n",
       "  'percentlabor': 3.1715648990546415},\n",
       " {'department': '1205',\n",
       "  'period': 12,\n",
       "  'issueamount': 5904645.419999997,\n",
       "  'salaryamount': 181898.94,\n",
       "  'percentlabor': 3.080607336452052}]"
      ]
     },
     "execution_count": 113,
     "metadata": {},
     "output_type": "execute_result"
    }
   ],
   "source": [
    "result=[]\n",
    "\n",
    "for index,item in department[:].iterrows():\n",
    "    # print(item.Departmentid,index)\n",
    "    for fmonth in period[:]:\n",
    "        # print(fmonth)\n",
    "        issueamount=findcard(2023,fmonth,item.Departmentid)\n",
    "        salaryamount=findpayroll(2023,fmonth,item.DepPayroll)\n",
    "\n",
    "        percentlabor =0\n",
    "        if issueamount>0 : \n",
    "            percentlabor=(salaryamount*100)/issueamount\n",
    "\n",
    "        \n",
    "        result+=[\n",
    "            {\n",
    "                \"department\":item.Departmentid,\n",
    "                \"period\": fmonth,\n",
    "                \"issueamount\" : issueamount,\n",
    "                \"salaryamount\" : salaryamount,\n",
    "                \"percentlabor\" : percentlabor,\n",
    "\n",
    "\n",
    "            }\n",
    "        ]\n",
    "\n",
    "\n",
    "result"
   ]
  },
  {
   "cell_type": "code",
   "execution_count": 138,
   "metadata": {},
   "outputs": [],
   "source": [
    "dfexport =pd.DataFrame(result)\n",
    "dfexport.to_excel(\"rpt2023.xlsx\")"
   ]
  },
  {
   "cell_type": "code",
   "execution_count": 115,
   "metadata": {},
   "outputs": [],
   "source": [
    "datadep=dfexport[dfexport.department==\"1202\"]\n"
   ]
  },
  {
   "cell_type": "code",
   "execution_count": 133,
   "metadata": {},
   "outputs": [
    {
     "data": {
      "text/html": [
       "<div>\n",
       "<style scoped>\n",
       "    .dataframe tbody tr th:only-of-type {\n",
       "        vertical-align: middle;\n",
       "    }\n",
       "\n",
       "    .dataframe tbody tr th {\n",
       "        vertical-align: top;\n",
       "    }\n",
       "\n",
       "    .dataframe thead th {\n",
       "        text-align: right;\n",
       "    }\n",
       "</style>\n",
       "<table border=\"1\" class=\"dataframe\">\n",
       "  <thead>\n",
       "    <tr style=\"text-align: right;\">\n",
       "      <th></th>\n",
       "      <th>period</th>\n",
       "      <th>issueamount</th>\n",
       "      <th>salaryamount</th>\n",
       "      <th>percentlabor</th>\n",
       "    </tr>\n",
       "  </thead>\n",
       "  <tbody>\n",
       "    <tr>\n",
       "      <th>count</th>\n",
       "      <td>12.000000</td>\n",
       "      <td>1.200000e+01</td>\n",
       "      <td>12.000000</td>\n",
       "      <td>12.000000</td>\n",
       "    </tr>\n",
       "    <tr>\n",
       "      <th>mean</th>\n",
       "      <td>6.500000</td>\n",
       "      <td>5.419951e+06</td>\n",
       "      <td>277447.566667</td>\n",
       "      <td>5.451470</td>\n",
       "    </tr>\n",
       "    <tr>\n",
       "      <th>std</th>\n",
       "      <td>3.605551</td>\n",
       "      <td>1.415673e+06</td>\n",
       "      <td>8022.192235</td>\n",
       "      <td>1.415648</td>\n",
       "    </tr>\n",
       "    <tr>\n",
       "      <th>min</th>\n",
       "      <td>1.000000</td>\n",
       "      <td>3.357313e+06</td>\n",
       "      <td>263498.000000</td>\n",
       "      <td>3.805452</td>\n",
       "    </tr>\n",
       "    <tr>\n",
       "      <th>25%</th>\n",
       "      <td>3.750000</td>\n",
       "      <td>4.203103e+06</td>\n",
       "      <td>273325.000000</td>\n",
       "      <td>4.365769</td>\n",
       "    </tr>\n",
       "    <tr>\n",
       "      <th>50%</th>\n",
       "      <td>6.500000</td>\n",
       "      <td>5.728752e+06</td>\n",
       "      <td>277913.400000</td>\n",
       "      <td>4.978766</td>\n",
       "    </tr>\n",
       "    <tr>\n",
       "      <th>75%</th>\n",
       "      <td>9.250000</td>\n",
       "      <td>6.341658e+06</td>\n",
       "      <td>282331.000000</td>\n",
       "      <td>6.553010</td>\n",
       "    </tr>\n",
       "    <tr>\n",
       "      <th>max</th>\n",
       "      <td>12.000000</td>\n",
       "      <td>7.662218e+06</td>\n",
       "      <td>291582.000000</td>\n",
       "      <td>7.848480</td>\n",
       "    </tr>\n",
       "  </tbody>\n",
       "</table>\n",
       "</div>"
      ],
      "text/plain": [
       "          period   issueamount   salaryamount  percentlabor\n",
       "count  12.000000  1.200000e+01      12.000000     12.000000\n",
       "mean    6.500000  5.419951e+06  277447.566667      5.451470\n",
       "std     3.605551  1.415673e+06    8022.192235      1.415648\n",
       "min     1.000000  3.357313e+06  263498.000000      3.805452\n",
       "25%     3.750000  4.203103e+06  273325.000000      4.365769\n",
       "50%     6.500000  5.728752e+06  277913.400000      4.978766\n",
       "75%     9.250000  6.341658e+06  282331.000000      6.553010\n",
       "max    12.000000  7.662218e+06  291582.000000      7.848480"
      ]
     },
     "execution_count": 133,
     "metadata": {},
     "output_type": "execute_result"
    }
   ],
   "source": [
    "#-----ผลลัพธ์ข้อมูล \n",
    "#1.แสดงข้อมูลสถิติ   ดูพฤติกรรมของข้อมูล  % ค่าแรงเทียบวัตถุดิบ ช่อง  max=7.84 mean =5.45 \n",
    "\n",
    "datadep.describe()"
   ]
  },
  {
   "cell_type": "code",
   "execution_count": 135,
   "metadata": {},
   "outputs": [
    {
     "data": {
      "text/plain": [
       "<AxesSubplot:>"
      ]
     },
     "execution_count": 135,
     "metadata": {},
     "output_type": "execute_result"
    },
    {
     "data": {
      "image/png": "[encoded data removed]",
      "text/plain": [
       "<Figure size 432x288 with 1 Axes>"
      ]
     },
     "metadata": {
      "needs_background": "light"
     },
     "output_type": "display_data"
    }
   ],
   "source": [
    "#2.plot กราฟ ฮิตโตเกรม  เพื่อดูการกระจายของข้อมูล ว่าข้อมูลส่วนใหญ่ ไปกรองอยู่ตรงไหน \n",
    "# 2.1 ฝั่ง% ค่าแรงเทียบเบิกวัตถุดิบ  ที่แกน  y \n",
    "datadep.percentlabor.hist()"
   ]
  },
  {
   "cell_type": "code",
   "execution_count": 118,
   "metadata": {},
   "outputs": [
    {
     "data": {
      "text/plain": [
       "<AxesSubplot:>"
      ]
     },
     "execution_count": 118,
     "metadata": {},
     "output_type": "execute_result"
    },
    {
     "data": {
      "image/png": "[encoded data removed]",
      "text/plain": [
       "<Figure size 432x288 with 1 Axes>"
      ]
     },
     "metadata": {
      "needs_background": "light"
     },
     "output_type": "display_data"
    }
   ],
   "source": [
    "\n",
    "# 2.2  ฝั่งวัตถุดิบ issueamount ที่แกน  y \n",
    "datadep.issueamount.hist()"
   ]
  },
  {
   "cell_type": "code",
   "execution_count": 136,
   "metadata": {},
   "outputs": [
    {
     "data": {
      "text/plain": [
       "<AxesSubplot:>"
      ]
     },
     "execution_count": 136,
     "metadata": {},
     "output_type": "execute_result"
    },
    {
     "data": {
      "image/png": "[encoded data removed]",
      "text/plain": [
       "<Figure size 432x288 with 1 Axes>"
      ]
     },
     "metadata": {
      "needs_background": "light"
     },
     "output_type": "display_data"
    }
   ],
   "source": [
    "\n",
    "# 2.3  ฝั่งค่าแรง salaryamount ที่แกน  y\n",
    "datadep.salaryamount.hist()"
   ]
  },
  {
   "cell_type": "code",
   "execution_count": 137,
   "metadata": {},
   "outputs": [
    {
     "data": {
      "text/plain": [
       "<AxesSubplot:>"
      ]
     },
     "execution_count": 137,
     "metadata": {},
     "output_type": "execute_result"
    },
    {
     "data": {
      "image/png": "[encoded data removed]",
      "text/plain": [
       "<Figure size 432x288 with 1 Axes>"
      ]
     },
     "metadata": {
      "needs_background": "light"
     },
     "output_type": "display_data"
    }
   ],
   "source": [
    "# 3 plot กราฟ พาราโต้  เพื่อดูแนวโน้ม กระโดด ผิดปกติ  ของข้อมูล\n",
    "# 3.1 ฝั่ง% ค่าแรงเทียบเบิกวัตถุดิบ  ที่แกน  y \n",
    "datadep.percentlabor.plot()"
   ]
  },
  {
   "cell_type": "code",
   "execution_count": 121,
   "metadata": {},
   "outputs": [
    {
     "data": {
      "text/plain": [
       "<AxesSubplot:>"
      ]
     },
     "execution_count": 121,
     "metadata": {},
     "output_type": "execute_result"
    },
    {
     "data": {
      "image/png": "[encoded data removed]",
      "text/plain": [
       "<Figure size 432x288 with 1 Axes>"
      ]
     },
     "metadata": {
      "needs_background": "light"
     },
     "output_type": "display_data"
    }
   ],
   "source": [
    "# 3.2 ฝั่งวัตถุดิบ issueamount ที่แกน  y \n",
    "datadep.issueamount.plot()"
   ]
  },
  {
   "cell_type": "code",
   "execution_count": 122,
   "metadata": {},
   "outputs": [
    {
     "data": {
      "text/plain": [
       "<AxesSubplot:>"
      ]
     },
     "execution_count": 122,
     "metadata": {},
     "output_type": "execute_result"
    },
    {
     "data": {
      "image/png": "[encoded data removed]",
      "text/plain": [
       "<Figure size 432x288 with 1 Axes>"
      ]
     },
     "metadata": {
      "needs_background": "light"
     },
     "output_type": "display_data"
    }
   ],
   "source": [
    "# 3.3 ฝั่งค่าแรง salaryamount ที่แกน  y\n",
    "datadep.salaryamount.plot()"
   ]
  },
  {
   "cell_type": "code",
   "execution_count": 129,
   "metadata": {},
   "outputs": [],
   "source": [
    "#กรณีใช้ Matplotlib\n",
    "\n",
    "#1.กำหนดค่า x   รอบเดือน 1-12  \n",
    "x =range(1,13)"
   ]
  },
  {
   "cell_type": "code",
   "execution_count": 127,
   "metadata": {},
   "outputs": [],
   "source": [
    "#2.กำหนด ค่า y    \n",
    "y=datadep.percentlabor"
   ]
  },
  {
   "cell_type": "code",
   "execution_count": 128,
   "metadata": {},
   "outputs": [
    {
     "data": {
      "text/plain": [
       "(range(1, 13),\n",
       " 0     3.805452\n",
       " 1     4.648015\n",
       " 2     3.948668\n",
       " 3     5.659743\n",
       " 4     5.221753\n",
       " 5     4.735779\n",
       " 6     4.408981\n",
       " 7     6.336415\n",
       " 8     4.236132\n",
       " 9     7.365423\n",
       " 10    7.202796\n",
       " 11    7.848480\n",
       " Name: percentlabor, dtype: float64)"
      ]
     },
     "execution_count": 128,
     "metadata": {},
     "output_type": "execute_result"
    }
   ],
   "source": [
    "x,y"
   ]
  },
  {
   "cell_type": "code",
   "execution_count": 132,
   "metadata": {},
   "outputs": [
    {
     "data": {
      "image/png": "[encoded data removed]",
      "text/plain": [
       "<Figure size 432x288 with 1 Axes>"
      ]
     },
     "metadata": {
      "needs_background": "light"
     },
     "output_type": "display_data"
    }
   ],
   "source": [
    "\n",
    "# plot กราฟ โยนค่า x,y  ใน plt.bar\n",
    "\n",
    "plt.bar(x, y, color ='maroon', \n",
    "        width = 0.4)\n",
    " \n",
    "plt.xlabel(\"Courses offered\")\n",
    "plt.ylabel(\"No. of students enrolled\")\n",
    "plt.title(\"Students enrolled in different courses\")\n",
    "plt.savefig(\"jan.jpg\") \n",
    "plt.show()\n"
   ]
  }
 ],
 "metadata": {
  "interpreter": {
   "hash": "fc06ddc643056eebb9b05333955eefa2265cc2159e2c97a5d59fc6d8fea03686"
  },
  "kernelspec": {
   "display_name": "Python 3.9.9 64-bit",
   "language": "python",
   "name": "python3"
  },
  "language_info": {
   "codemirror_mode": {
    "name": "ipython",
    "version": 3
   },
   "file_extension": ".py",
   "mimetype": "text/x-python",
   "name": "python",
   "nbconvert_exporter": "python",
   "pygments_lexer": "ipython3",
   "version": "3.9.9"
  },
  "orig_nbformat": 4
 },
 "nbformat": 4,
 "nbformat_minor": 2
}
